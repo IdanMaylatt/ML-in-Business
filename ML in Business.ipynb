{
 "cells": [
  {
   "cell_type": "markdown",
   "id": "fe062334",
   "metadata": {},
   "source": [
    "<div class=\"alert alert-info\n",
    "Yes, i see the same also, hope this time it'll be ok. i get once in a while a window where i have to click either 'cancel', 'overwrite' or 'reload'. i used 'overwrite' before. now the same but i downloaded the notebook and then submitted.\n",
    "first time i have this thing; what i should click, 'reload'?\n",
    "</div>"
   ]
  },
  {
   "cell_type": "markdown",
   "id": "271ed893",
   "metadata": {},
   "source": [
    "<center style='font-size:28px;'><u><b>ML in Business</b></u></center>"
   ]
  },
  {
   "cell_type": "markdown",
   "id": "6960158b",
   "metadata": {},
   "source": [
    "1. [Project Description](#start)\n",
    "    * [Data Description](#dd)\n",
    "2. [Imports](#imp)\n",
    "3. [Preprocessing data](#pp)\n",
    "    * [Pre-Processing Summation](#ppssm)\n",
    "4. [Training a model for each region](#tmfer)\n",
    "5. [Profitable reserve volume](#prvo)\n",
    "6. [Profit Calculation](#prfclcl)\n",
    "7. [Bootstrap](#boot)\n",
    "8. [Conclusion](#conc)"
   ]
  },
  {
   "cell_type": "markdown",
   "id": "2dec7224",
   "metadata": {},
   "source": [
    "# Project description <a id=\"start\"></a>"
   ]
  },
  {
   "cell_type": "markdown",
   "id": "bd2d0c9e",
   "metadata": {},
   "source": [
    "You work for the OilyGiant mining company. Your task is to find the best place for a new well.\n",
    "Steps to choose the location:\n",
    "Collect the oil well parameters in the selected region: oil quality and volume of reserves;\n",
    "Build a model for predicting the volume of reserves in the new wells;\n",
    "Pick the oil wells with the highest estimated values;\n",
    "Pick the region with the highest total profit for the selected oil wells.\n",
    "You have data on oil samples from three regions. Parameters of each oil well in the region are already known. Build a model that will help to pick the region with the highest profit margin. Analyze potential profit and risks using the Bootstrapping technique."
   ]
  },
  {
   "cell_type": "markdown",
   "id": "a9811aa5",
   "metadata": {},
   "source": [
    "## Description of the data <a id=\"dd\"></a>"
   ]
  },
  {
   "cell_type": "markdown",
   "id": "a2a1c6ba",
   "metadata": {},
   "source": [
    "**Geo-Data**\n",
    "- Features\n",
    "<ul>id — unique oil well identifier</ul>\n",
    "<ul>f0, f1, f2 — three features of points (their specific meaning is unimportant, but the features themselves are significant)</ul>\n",
    "- Target\n",
    "<ul>product — volume of reserves in the oil well (thousand barrels).</ul>"
   ]
  },
  {
   "cell_type": "markdown",
   "id": "da6c5d66",
   "metadata": {},
   "source": [
    "# Imports <a id=\"imp\"></a>"
   ]
  },
  {
   "cell_type": "code",
   "execution_count": 1,
   "id": "f2bfae70",
   "metadata": {},
   "outputs": [],
   "source": [
    "#pip install -U scikit-learn"
   ]
  },
  {
   "cell_type": "code",
   "execution_count": 2,
   "id": "924caac7",
   "metadata": {},
   "outputs": [],
   "source": [
    "import pandas as pd\n",
    "import numpy as np\n",
    "import matplotlib.pyplot as plt\n",
    "from sklearn.linear_model import LinearRegression \n",
    "from sklearn.preprocessing import StandardScaler\n",
    "from sklearn.model_selection import train_test_split\n",
    "from sklearn.metrics import f1_score\n",
    "from sklearn.metrics import mean_squared_error\n",
    "from sklearn.model_selection import cross_val_score"
   ]
  },
  {
   "cell_type": "markdown",
   "id": "9a006bea",
   "metadata": {},
   "source": [
    "# Pre-Processing <a id=\"pp\"></a>"
   ]
  },
  {
   "cell_type": "code",
   "execution_count": 3,
   "id": "41e9538a",
   "metadata": {},
   "outputs": [],
   "source": [
    "try:\n",
    "    geo_data_0 = pd.read_csv('geo_data_0.csv')\n",
    "except:\n",
    "    geo_data_0 = pd.read_csv('https://code.s3.yandex.net/datasets/geo_data_0.csv')\n",
    "\n",
    "try:\n",
    "    geo_data_1 = pd.read_csv('geo_data_1.csv')\n",
    "except:\n",
    "    geo_data_1 = pd.read_csv('https://code.s3.yandex.net/datasets/geo_data_1.csv')\n",
    "    \n",
    "try:\n",
    "    geo_data_2 = pd.read_csv('geo_data_2.csv')\n",
    "except:\n",
    "    geo_data_2 = pd.read_csv('https://code.s3.yandex.net/datasets/geo_data_2.csv')"
   ]
  },
  {
   "cell_type": "code",
   "execution_count": 4,
   "id": "e6d34c67",
   "metadata": {
    "scrolled": true
   },
   "outputs": [
    {
     "name": "stdout",
     "output_type": "stream",
     "text": [
      "<class 'pandas.core.frame.DataFrame'>\n",
      "RangeIndex: 100000 entries, 0 to 99999\n",
      "Data columns (total 5 columns):\n",
      " #   Column   Non-Null Count   Dtype  \n",
      "---  ------   --------------   -----  \n",
      " 0   id       100000 non-null  object \n",
      " 1   f0       100000 non-null  float64\n",
      " 2   f1       100000 non-null  float64\n",
      " 3   f2       100000 non-null  float64\n",
      " 4   product  100000 non-null  float64\n",
      "dtypes: float64(4), object(1)\n",
      "memory usage: 3.8+ MB\n",
      "<class 'pandas.core.frame.DataFrame'>\n",
      "RangeIndex: 100000 entries, 0 to 99999\n",
      "Data columns (total 5 columns):\n",
      " #   Column   Non-Null Count   Dtype  \n",
      "---  ------   --------------   -----  \n",
      " 0   id       100000 non-null  object \n",
      " 1   f0       100000 non-null  float64\n",
      " 2   f1       100000 non-null  float64\n",
      " 3   f2       100000 non-null  float64\n",
      " 4   product  100000 non-null  float64\n",
      "dtypes: float64(4), object(1)\n",
      "memory usage: 3.8+ MB\n",
      "<class 'pandas.core.frame.DataFrame'>\n",
      "RangeIndex: 100000 entries, 0 to 99999\n",
      "Data columns (total 5 columns):\n",
      " #   Column   Non-Null Count   Dtype  \n",
      "---  ------   --------------   -----  \n",
      " 0   id       100000 non-null  object \n",
      " 1   f0       100000 non-null  float64\n",
      " 2   f1       100000 non-null  float64\n",
      " 3   f2       100000 non-null  float64\n",
      " 4   product  100000 non-null  float64\n",
      "dtypes: float64(4), object(1)\n",
      "memory usage: 3.8+ MB\n"
     ]
    }
   ],
   "source": [
    "geo_data_0.info()\n",
    "geo_data_1.info()\n",
    "geo_data_2.info()"
   ]
  },
  {
   "cell_type": "code",
   "execution_count": 5,
   "id": "f4062d0c",
   "metadata": {},
   "outputs": [
    {
     "data": {
      "text/html": [
       "<div>\n",
       "<style scoped>\n",
       "    .dataframe tbody tr th:only-of-type {\n",
       "        vertical-align: middle;\n",
       "    }\n",
       "\n",
       "    .dataframe tbody tr th {\n",
       "        vertical-align: top;\n",
       "    }\n",
       "\n",
       "    .dataframe thead th {\n",
       "        text-align: right;\n",
       "    }\n",
       "</style>\n",
       "<table border=\"1\" class=\"dataframe\">\n",
       "  <thead>\n",
       "    <tr style=\"text-align: right;\">\n",
       "      <th></th>\n",
       "      <th>id</th>\n",
       "      <th>f0</th>\n",
       "      <th>f1</th>\n",
       "      <th>f2</th>\n",
       "      <th>product</th>\n",
       "    </tr>\n",
       "  </thead>\n",
       "  <tbody>\n",
       "    <tr>\n",
       "      <th>0</th>\n",
       "      <td>txEyH</td>\n",
       "      <td>0.705745</td>\n",
       "      <td>-0.497823</td>\n",
       "      <td>1.221170</td>\n",
       "      <td>105.280062</td>\n",
       "    </tr>\n",
       "    <tr>\n",
       "      <th>1</th>\n",
       "      <td>2acmU</td>\n",
       "      <td>1.334711</td>\n",
       "      <td>-0.340164</td>\n",
       "      <td>4.365080</td>\n",
       "      <td>73.037750</td>\n",
       "    </tr>\n",
       "    <tr>\n",
       "      <th>2</th>\n",
       "      <td>409Wp</td>\n",
       "      <td>1.022732</td>\n",
       "      <td>0.151990</td>\n",
       "      <td>1.419926</td>\n",
       "      <td>85.265647</td>\n",
       "    </tr>\n",
       "    <tr>\n",
       "      <th>3</th>\n",
       "      <td>iJLyR</td>\n",
       "      <td>-0.032172</td>\n",
       "      <td>0.139033</td>\n",
       "      <td>2.978566</td>\n",
       "      <td>168.620776</td>\n",
       "    </tr>\n",
       "    <tr>\n",
       "      <th>4</th>\n",
       "      <td>Xdl7t</td>\n",
       "      <td>1.988431</td>\n",
       "      <td>0.155413</td>\n",
       "      <td>4.751769</td>\n",
       "      <td>154.036647</td>\n",
       "    </tr>\n",
       "  </tbody>\n",
       "</table>\n",
       "</div>"
      ],
      "text/plain": [
       "      id        f0        f1        f2     product\n",
       "0  txEyH  0.705745 -0.497823  1.221170  105.280062\n",
       "1  2acmU  1.334711 -0.340164  4.365080   73.037750\n",
       "2  409Wp  1.022732  0.151990  1.419926   85.265647\n",
       "3  iJLyR -0.032172  0.139033  2.978566  168.620776\n",
       "4  Xdl7t  1.988431  0.155413  4.751769  154.036647"
      ]
     },
     "metadata": {},
     "output_type": "display_data"
    },
    {
     "data": {
      "text/html": [
       "<div>\n",
       "<style scoped>\n",
       "    .dataframe tbody tr th:only-of-type {\n",
       "        vertical-align: middle;\n",
       "    }\n",
       "\n",
       "    .dataframe tbody tr th {\n",
       "        vertical-align: top;\n",
       "    }\n",
       "\n",
       "    .dataframe thead th {\n",
       "        text-align: right;\n",
       "    }\n",
       "</style>\n",
       "<table border=\"1\" class=\"dataframe\">\n",
       "  <thead>\n",
       "    <tr style=\"text-align: right;\">\n",
       "      <th></th>\n",
       "      <th>id</th>\n",
       "      <th>f0</th>\n",
       "      <th>f1</th>\n",
       "      <th>f2</th>\n",
       "      <th>product</th>\n",
       "    </tr>\n",
       "  </thead>\n",
       "  <tbody>\n",
       "    <tr>\n",
       "      <th>0</th>\n",
       "      <td>kBEdx</td>\n",
       "      <td>-15.001348</td>\n",
       "      <td>-8.276000</td>\n",
       "      <td>-0.005876</td>\n",
       "      <td>3.179103</td>\n",
       "    </tr>\n",
       "    <tr>\n",
       "      <th>1</th>\n",
       "      <td>62mP7</td>\n",
       "      <td>14.272088</td>\n",
       "      <td>-3.475083</td>\n",
       "      <td>0.999183</td>\n",
       "      <td>26.953261</td>\n",
       "    </tr>\n",
       "    <tr>\n",
       "      <th>2</th>\n",
       "      <td>vyE1P</td>\n",
       "      <td>6.263187</td>\n",
       "      <td>-5.948386</td>\n",
       "      <td>5.001160</td>\n",
       "      <td>134.766305</td>\n",
       "    </tr>\n",
       "    <tr>\n",
       "      <th>3</th>\n",
       "      <td>KcrkZ</td>\n",
       "      <td>-13.081196</td>\n",
       "      <td>-11.506057</td>\n",
       "      <td>4.999415</td>\n",
       "      <td>137.945408</td>\n",
       "    </tr>\n",
       "    <tr>\n",
       "      <th>4</th>\n",
       "      <td>AHL4O</td>\n",
       "      <td>12.702195</td>\n",
       "      <td>-8.147433</td>\n",
       "      <td>5.004363</td>\n",
       "      <td>134.766305</td>\n",
       "    </tr>\n",
       "  </tbody>\n",
       "</table>\n",
       "</div>"
      ],
      "text/plain": [
       "      id         f0         f1        f2     product\n",
       "0  kBEdx -15.001348  -8.276000 -0.005876    3.179103\n",
       "1  62mP7  14.272088  -3.475083  0.999183   26.953261\n",
       "2  vyE1P   6.263187  -5.948386  5.001160  134.766305\n",
       "3  KcrkZ -13.081196 -11.506057  4.999415  137.945408\n",
       "4  AHL4O  12.702195  -8.147433  5.004363  134.766305"
      ]
     },
     "metadata": {},
     "output_type": "display_data"
    },
    {
     "data": {
      "text/html": [
       "<div>\n",
       "<style scoped>\n",
       "    .dataframe tbody tr th:only-of-type {\n",
       "        vertical-align: middle;\n",
       "    }\n",
       "\n",
       "    .dataframe tbody tr th {\n",
       "        vertical-align: top;\n",
       "    }\n",
       "\n",
       "    .dataframe thead th {\n",
       "        text-align: right;\n",
       "    }\n",
       "</style>\n",
       "<table border=\"1\" class=\"dataframe\">\n",
       "  <thead>\n",
       "    <tr style=\"text-align: right;\">\n",
       "      <th></th>\n",
       "      <th>id</th>\n",
       "      <th>f0</th>\n",
       "      <th>f1</th>\n",
       "      <th>f2</th>\n",
       "      <th>product</th>\n",
       "    </tr>\n",
       "  </thead>\n",
       "  <tbody>\n",
       "    <tr>\n",
       "      <th>0</th>\n",
       "      <td>fwXo0</td>\n",
       "      <td>-1.146987</td>\n",
       "      <td>0.963328</td>\n",
       "      <td>-0.828965</td>\n",
       "      <td>27.758673</td>\n",
       "    </tr>\n",
       "    <tr>\n",
       "      <th>1</th>\n",
       "      <td>WJtFt</td>\n",
       "      <td>0.262778</td>\n",
       "      <td>0.269839</td>\n",
       "      <td>-2.530187</td>\n",
       "      <td>56.069697</td>\n",
       "    </tr>\n",
       "    <tr>\n",
       "      <th>2</th>\n",
       "      <td>ovLUW</td>\n",
       "      <td>0.194587</td>\n",
       "      <td>0.289035</td>\n",
       "      <td>-5.586433</td>\n",
       "      <td>62.871910</td>\n",
       "    </tr>\n",
       "    <tr>\n",
       "      <th>3</th>\n",
       "      <td>q6cA6</td>\n",
       "      <td>2.236060</td>\n",
       "      <td>-0.553760</td>\n",
       "      <td>0.930038</td>\n",
       "      <td>114.572842</td>\n",
       "    </tr>\n",
       "    <tr>\n",
       "      <th>4</th>\n",
       "      <td>WPMUX</td>\n",
       "      <td>-0.515993</td>\n",
       "      <td>1.716266</td>\n",
       "      <td>5.899011</td>\n",
       "      <td>149.600746</td>\n",
       "    </tr>\n",
       "  </tbody>\n",
       "</table>\n",
       "</div>"
      ],
      "text/plain": [
       "      id        f0        f1        f2     product\n",
       "0  fwXo0 -1.146987  0.963328 -0.828965   27.758673\n",
       "1  WJtFt  0.262778  0.269839 -2.530187   56.069697\n",
       "2  ovLUW  0.194587  0.289035 -5.586433   62.871910\n",
       "3  q6cA6  2.236060 -0.553760  0.930038  114.572842\n",
       "4  WPMUX -0.515993  1.716266  5.899011  149.600746"
      ]
     },
     "metadata": {},
     "output_type": "display_data"
    }
   ],
   "source": [
    "display(geo_data_0.head())\n",
    "display(geo_data_1.head())\n",
    "display(geo_data_2.head())"
   ]
  },
  {
   "cell_type": "markdown",
   "id": "1ffd4e66",
   "metadata": {},
   "source": [
    "No missing values."
   ]
  },
  {
   "cell_type": "code",
   "execution_count": 6,
   "id": "f5660596",
   "metadata": {},
   "outputs": [],
   "source": [
    "geo_data_0 = geo_data_0.astype({'id':'string'})\n",
    "geo_data_1 = geo_data_1.astype({'id':'string'})\n",
    "geo_data_2 = geo_data_2.astype({'id':'string'})"
   ]
  },
  {
   "cell_type": "code",
   "execution_count": 7,
   "id": "851c69f9",
   "metadata": {},
   "outputs": [
    {
     "name": "stdout",
     "output_type": "stream",
     "text": [
      "<class 'pandas.core.frame.DataFrame'>\n",
      "RangeIndex: 100000 entries, 0 to 99999\n",
      "Data columns (total 5 columns):\n",
      " #   Column   Non-Null Count   Dtype  \n",
      "---  ------   --------------   -----  \n",
      " 0   id       100000 non-null  string \n",
      " 1   f0       100000 non-null  float64\n",
      " 2   f1       100000 non-null  float64\n",
      " 3   f2       100000 non-null  float64\n",
      " 4   product  100000 non-null  float64\n",
      "dtypes: float64(4), string(1)\n",
      "memory usage: 3.8 MB\n",
      "<class 'pandas.core.frame.DataFrame'>\n",
      "RangeIndex: 100000 entries, 0 to 99999\n",
      "Data columns (total 5 columns):\n",
      " #   Column   Non-Null Count   Dtype  \n",
      "---  ------   --------------   -----  \n",
      " 0   id       100000 non-null  string \n",
      " 1   f0       100000 non-null  float64\n",
      " 2   f1       100000 non-null  float64\n",
      " 3   f2       100000 non-null  float64\n",
      " 4   product  100000 non-null  float64\n",
      "dtypes: float64(4), string(1)\n",
      "memory usage: 3.8 MB\n",
      "<class 'pandas.core.frame.DataFrame'>\n",
      "RangeIndex: 100000 entries, 0 to 99999\n",
      "Data columns (total 5 columns):\n",
      " #   Column   Non-Null Count   Dtype  \n",
      "---  ------   --------------   -----  \n",
      " 0   id       100000 non-null  string \n",
      " 1   f0       100000 non-null  float64\n",
      " 2   f1       100000 non-null  float64\n",
      " 3   f2       100000 non-null  float64\n",
      " 4   product  100000 non-null  float64\n",
      "dtypes: float64(4), string(1)\n",
      "memory usage: 3.8 MB\n"
     ]
    }
   ],
   "source": [
    "geo_data_0.info()\n",
    "geo_data_1.info()\n",
    "geo_data_2.info()"
   ]
  },
  {
   "cell_type": "code",
   "execution_count": 8,
   "id": "62e75655",
   "metadata": {},
   "outputs": [
    {
     "name": "stdout",
     "output_type": "stream",
     "text": [
      "0\n",
      "0\n",
      "0\n"
     ]
    }
   ],
   "source": [
    "print(geo_data_0.duplicated().sum())\n",
    "print(geo_data_1.duplicated().sum())\n",
    "print(geo_data_2.duplicated().sum())"
   ]
  },
  {
   "cell_type": "markdown",
   "id": "5ca79750",
   "metadata": {},
   "source": [
    "no Duplicates. `Id` casted to string."
   ]
  },
  {
   "cell_type": "markdown",
   "id": "523f2d8c",
   "metadata": {},
   "source": [
    "`id` column is kept in case specific wells should be analysed; ML-wise it has no importance and could else be dropped.\n",
    "Linear Regression is the algorithm to be used for this data, so OHE and features scaling are to be done as well. As all relevant columns are numeric, that leaves only features to be scaled once data is split."
   ]
  },
  {
   "cell_type": "code",
   "execution_count": 9,
   "id": "959166ec",
   "metadata": {},
   "outputs": [
    {
     "name": "stdout",
     "output_type": "stream",
     "text": [
      "Area 0 -\n"
     ]
    },
    {
     "data": {
      "text/html": [
       "<div>\n",
       "<style scoped>\n",
       "    .dataframe tbody tr th:only-of-type {\n",
       "        vertical-align: middle;\n",
       "    }\n",
       "\n",
       "    .dataframe tbody tr th {\n",
       "        vertical-align: top;\n",
       "    }\n",
       "\n",
       "    .dataframe thead th {\n",
       "        text-align: right;\n",
       "    }\n",
       "</style>\n",
       "<table border=\"1\" class=\"dataframe\">\n",
       "  <thead>\n",
       "    <tr style=\"text-align: right;\">\n",
       "      <th></th>\n",
       "      <th>product</th>\n",
       "    </tr>\n",
       "  </thead>\n",
       "  <tbody>\n",
       "    <tr>\n",
       "      <th>count</th>\n",
       "      <td>100000.000000</td>\n",
       "    </tr>\n",
       "    <tr>\n",
       "      <th>mean</th>\n",
       "      <td>92.500000</td>\n",
       "    </tr>\n",
       "    <tr>\n",
       "      <th>std</th>\n",
       "      <td>44.288691</td>\n",
       "    </tr>\n",
       "    <tr>\n",
       "      <th>min</th>\n",
       "      <td>0.000000</td>\n",
       "    </tr>\n",
       "    <tr>\n",
       "      <th>25%</th>\n",
       "      <td>56.497507</td>\n",
       "    </tr>\n",
       "    <tr>\n",
       "      <th>50%</th>\n",
       "      <td>91.849972</td>\n",
       "    </tr>\n",
       "    <tr>\n",
       "      <th>75%</th>\n",
       "      <td>128.564089</td>\n",
       "    </tr>\n",
       "    <tr>\n",
       "      <th>max</th>\n",
       "      <td>185.364347</td>\n",
       "    </tr>\n",
       "  </tbody>\n",
       "</table>\n",
       "</div>"
      ],
      "text/plain": [
       "             product\n",
       "count  100000.000000\n",
       "mean       92.500000\n",
       "std        44.288691\n",
       "min         0.000000\n",
       "25%        56.497507\n",
       "50%        91.849972\n",
       "75%       128.564089\n",
       "max       185.364347"
      ]
     },
     "metadata": {},
     "output_type": "display_data"
    },
    {
     "name": "stdout",
     "output_type": "stream",
     "text": [
      "Area 1 -\n"
     ]
    },
    {
     "data": {
      "text/html": [
       "<div>\n",
       "<style scoped>\n",
       "    .dataframe tbody tr th:only-of-type {\n",
       "        vertical-align: middle;\n",
       "    }\n",
       "\n",
       "    .dataframe tbody tr th {\n",
       "        vertical-align: top;\n",
       "    }\n",
       "\n",
       "    .dataframe thead th {\n",
       "        text-align: right;\n",
       "    }\n",
       "</style>\n",
       "<table border=\"1\" class=\"dataframe\">\n",
       "  <thead>\n",
       "    <tr style=\"text-align: right;\">\n",
       "      <th></th>\n",
       "      <th>product</th>\n",
       "    </tr>\n",
       "  </thead>\n",
       "  <tbody>\n",
       "    <tr>\n",
       "      <th>count</th>\n",
       "      <td>100000.000000</td>\n",
       "    </tr>\n",
       "    <tr>\n",
       "      <th>mean</th>\n",
       "      <td>68.825000</td>\n",
       "    </tr>\n",
       "    <tr>\n",
       "      <th>std</th>\n",
       "      <td>45.944423</td>\n",
       "    </tr>\n",
       "    <tr>\n",
       "      <th>min</th>\n",
       "      <td>0.000000</td>\n",
       "    </tr>\n",
       "    <tr>\n",
       "      <th>25%</th>\n",
       "      <td>26.953261</td>\n",
       "    </tr>\n",
       "    <tr>\n",
       "      <th>50%</th>\n",
       "      <td>57.085625</td>\n",
       "    </tr>\n",
       "    <tr>\n",
       "      <th>75%</th>\n",
       "      <td>107.813044</td>\n",
       "    </tr>\n",
       "    <tr>\n",
       "      <th>max</th>\n",
       "      <td>137.945408</td>\n",
       "    </tr>\n",
       "  </tbody>\n",
       "</table>\n",
       "</div>"
      ],
      "text/plain": [
       "             product\n",
       "count  100000.000000\n",
       "mean       68.825000\n",
       "std        45.944423\n",
       "min         0.000000\n",
       "25%        26.953261\n",
       "50%        57.085625\n",
       "75%       107.813044\n",
       "max       137.945408"
      ]
     },
     "metadata": {},
     "output_type": "display_data"
    },
    {
     "name": "stdout",
     "output_type": "stream",
     "text": [
      "Area 2 -\n"
     ]
    },
    {
     "data": {
      "text/html": [
       "<div>\n",
       "<style scoped>\n",
       "    .dataframe tbody tr th:only-of-type {\n",
       "        vertical-align: middle;\n",
       "    }\n",
       "\n",
       "    .dataframe tbody tr th {\n",
       "        vertical-align: top;\n",
       "    }\n",
       "\n",
       "    .dataframe thead th {\n",
       "        text-align: right;\n",
       "    }\n",
       "</style>\n",
       "<table border=\"1\" class=\"dataframe\">\n",
       "  <thead>\n",
       "    <tr style=\"text-align: right;\">\n",
       "      <th></th>\n",
       "      <th>product</th>\n",
       "    </tr>\n",
       "  </thead>\n",
       "  <tbody>\n",
       "    <tr>\n",
       "      <th>count</th>\n",
       "      <td>100000.000000</td>\n",
       "    </tr>\n",
       "    <tr>\n",
       "      <th>mean</th>\n",
       "      <td>95.000000</td>\n",
       "    </tr>\n",
       "    <tr>\n",
       "      <th>std</th>\n",
       "      <td>44.749921</td>\n",
       "    </tr>\n",
       "    <tr>\n",
       "      <th>min</th>\n",
       "      <td>0.000000</td>\n",
       "    </tr>\n",
       "    <tr>\n",
       "      <th>25%</th>\n",
       "      <td>59.450441</td>\n",
       "    </tr>\n",
       "    <tr>\n",
       "      <th>50%</th>\n",
       "      <td>94.925613</td>\n",
       "    </tr>\n",
       "    <tr>\n",
       "      <th>75%</th>\n",
       "      <td>130.595027</td>\n",
       "    </tr>\n",
       "    <tr>\n",
       "      <th>max</th>\n",
       "      <td>190.029838</td>\n",
       "    </tr>\n",
       "  </tbody>\n",
       "</table>\n",
       "</div>"
      ],
      "text/plain": [
       "             product\n",
       "count  100000.000000\n",
       "mean       95.000000\n",
       "std        44.749921\n",
       "min         0.000000\n",
       "25%        59.450441\n",
       "50%        94.925613\n",
       "75%       130.595027\n",
       "max       190.029838"
      ]
     },
     "metadata": {},
     "output_type": "display_data"
    }
   ],
   "source": [
    "print('Area 0 -')\n",
    "display(geo_data_0.describe().loc[:,'product'].to_frame())\n",
    "print('Area 1 -')\n",
    "display(geo_data_1.describe().loc[:,'product'].to_frame())\n",
    "print('Area 2 -')\n",
    "display(geo_data_2.describe().loc[:,'product'].to_frame())"
   ]
  },
  {
   "cell_type": "markdown",
   "id": "a608e83c",
   "metadata": {},
   "source": [
    "## Pre-Processing Summation <a id=\"ppssm\"></a>"
   ]
  },
  {
   "cell_type": "markdown",
   "id": "df8f8694",
   "metadata": {},
   "source": [
    "- Data is widely numeric, besides `id`. Feature scaling to be done.\n",
    "\n",
    "- The `product` column of `geo_data_0` and `geo_data_2` is statistics-wise very similar. The mean of `geo_data_1` is lower by 30% relative to the pair's mean, while the std of all tables is pretty close."
   ]
  },
  {
   "cell_type": "markdown",
   "id": "a547c726",
   "metadata": {},
   "source": [
    "# Training a model for each region <a id=\"tmfer\"></a>"
   ]
  },
  {
   "cell_type": "code",
   "execution_count": 10,
   "id": "81a28810",
   "metadata": {},
   "outputs": [
    {
     "name": "stdout",
     "output_type": "stream",
     "text": [
      "Average volume of predicted reserves - 92.5086249124955\n",
      "Model's RMSE: 37.54151515850602\n",
      "Average volume of predicted reserves - 68.49008336465836\n",
      "Model's RMSE: 0.8858505980507572\n",
      "Average volume of predicted reserves - 95.00076767282144\n",
      "Model's RMSE: 39.72337541963802\n"
     ]
    }
   ],
   "source": [
    "def dwer(data):\n",
    "    data = data.drop('id',axis=1)\n",
    "    target = data['product']\n",
    "    features = data.drop('product',axis=1)\n",
    "    features_train, features_valid, target_train, target_valid = train_test_split\\\n",
    "    (features, target, test_size=0.4, random_state=12345)\n",
    "    features_valid, features_test, target_valid, target_test = train_test_split\\\n",
    "    (features_valid, target_valid, test_size=0.5, random_state=12345)\n",
    "\n",
    "\n",
    "    scaler = StandardScaler()\n",
    "    scaler.fit(features_train)\n",
    "    features_train = pd.DataFrame(scaler.transform(features_train))\n",
    "    features_valid = pd.DataFrame(scaler.transform(features_valid))\n",
    "    features_test = pd.DataFrame(scaler.transform(features_test))\n",
    "    \n",
    "    \n",
    "    model = LinearRegression()\n",
    "    model.fit(features_train,target_train)\n",
    "    predicted_valid = pd.Series(model.predict(features_valid))\n",
    "    print('Average volume of predicted reserves -',predicted_valid.mean())\n",
    "    mse = mean_squared_error(target_valid, predicted_valid)\n",
    "    rmse = mse ** 0.5\n",
    "    print(\"Model's RMSE:\", rmse)\n",
    "    \n",
    "    return features_train, features_valid, features_test, target_train, target_valid, target_test, predicted_valid\n",
    "\n",
    "features_train_0, features_valid_0, features_test_0, target_train_0, target_valid_0, target_test_0, predicted_0 = dwer(geo_data_0)\n",
    "features_train_1, features_valid_1, features_test_1, target_train_1, target_valid_1, target_test_1, predicted_1 = dwer(geo_data_1)\n",
    "features_train_2, features_valid_2, features_test_2, target_train_2, target_valid_2, target_test_2, predicted_2 = dwer(geo_data_2)"
   ]
  },
  {
   "cell_type": "markdown",
   "id": "d52b9246",
   "metadata": {},
   "source": [
    "<div>Predicted average volume results match the product's mean for each dataset. While all datasets have the same variance (as `describe` illustrated above), `geo_data_1` predictions have a substantially lower RMSE than the rest. It suggests a strong linear connection between `geo_data_1`'s features and target.</div>"
   ]
  },
  {
   "cell_type": "markdown",
   "id": "f971a40f",
   "metadata": {},
   "source": [
    "# Profitable reserve volume <a id=\"prvo\"></a>"
   ]
  },
  {
   "cell_type": "markdown",
   "id": "0966e4fb",
   "metadata": {},
   "source": [
    "The budget for development of 200 oil wells is 100 million USD. 1000 barrels (a unit of product) of raw material worth 4500 USD."
   ]
  },
  {
   "cell_type": "code",
   "execution_count": 11,
   "id": "0f49d383",
   "metadata": {},
   "outputs": [
    {
     "data": {
      "text/plain": [
       "111.11111111111111"
      ]
     },
     "execution_count": 11,
     "metadata": {},
     "output_type": "execute_result"
    }
   ],
   "source": [
    "Budget_per_well = 500000 # 100M USD / 200 wells\n",
    "val_per_product = 4500\n",
    "critical_reserve = Budget_per_well / val_per_product\n",
    "critical_reserve"
   ]
  },
  {
   "cell_type": "markdown",
   "id": "b5969614",
   "metadata": {},
   "source": [
    "111 is higher than all 3 regions predicted average volume reserves. Yet, there must be wells worth the effort as the mean is not so far, only 1/3 to 1 standard deviation away."
   ]
  },
  {
   "cell_type": "markdown",
   "id": "780d167d",
   "metadata": {},
   "source": [
    "# Profit Calculation <a id=\"prfclcl\"></a>"
   ]
  },
  {
   "cell_type": "code",
   "execution_count": 12,
   "id": "ece3e183",
   "metadata": {},
   "outputs": [],
   "source": [
    "def profit(target,predictions,count=200):\n",
    "    target = target.reset_index(drop=True)\n",
    "    predictions = predictions.reset_index(drop=True)\n",
    "    predictions_sorted = pd.Series(predictions, index=target.index).sort_values(ascending=False)\n",
    "    top_target = target.loc[predictions_sorted.index][:count]\n",
    "    profit = (top_target.sum() * val_per_product) - (count * Budget_per_well)\n",
    "    return profit"
   ]
  },
  {
   "cell_type": "code",
   "execution_count": 13,
   "id": "52552ecb",
   "metadata": {},
   "outputs": [
    {
     "data": {
      "text/plain": [
       "63713    156.180661\n",
       "61461    136.863435\n",
       "53670    183.095523\n",
       "76953     54.254507\n",
       "54117     82.135943\n",
       "Name: product, dtype: float64"
      ]
     },
     "metadata": {},
     "output_type": "display_data"
    },
    {
     "data": {
      "text/plain": [
       "0    157.656975\n",
       "1    105.816711\n",
       "2    129.734594\n",
       "3    105.190078\n",
       "4    107.021106\n",
       "dtype: float64"
      ]
     },
     "metadata": {},
     "output_type": "display_data"
    }
   ],
   "source": [
    "tar10 = target_valid_0.head()\n",
    "pre10 = predicted_0.head()\n",
    "display(tar10)\n",
    "display(pre10)"
   ]
  },
  {
   "cell_type": "code",
   "execution_count": 14,
   "id": "15f222de",
   "metadata": {},
   "outputs": [
    {
     "data": {
      "text/plain": [
       "0    156.180661\n",
       "1    136.863435\n",
       "2    183.095523\n",
       "3     54.254507\n",
       "4     82.135943\n",
       "Name: product, dtype: float64"
      ]
     },
     "metadata": {},
     "output_type": "display_data"
    },
    {
     "data": {
      "text/plain": [
       "0    157.656975\n",
       "1    105.816711\n",
       "2    129.734594\n",
       "3    105.190078\n",
       "4    107.021106\n",
       "dtype: float64"
      ]
     },
     "metadata": {},
     "output_type": "display_data"
    }
   ],
   "source": [
    "tar10res = tar10.reset_index(drop=True)\n",
    "pre10res = pre10.reset_index(drop=True)\n",
    "display(tar10res)\n",
    "display(pre10res)"
   ]
  },
  {
   "cell_type": "code",
   "execution_count": 15,
   "id": "d1235056",
   "metadata": {},
   "outputs": [
    {
     "data": {
      "text/plain": [
       "0    157.656975\n",
       "2    129.734594\n",
       "4    107.021106\n",
       "1    105.816711\n",
       "3    105.190078\n",
       "dtype: float64"
      ]
     },
     "execution_count": 15,
     "metadata": {},
     "output_type": "execute_result"
    }
   ],
   "source": [
    "predictions_sorted = pd.Series(pre10res, index=tar10res.index).sort_values(ascending=False)\n",
    "predictions_sorted"
   ]
  },
  {
   "cell_type": "markdown",
   "id": "e5469996",
   "metadata": {},
   "source": [
    "order and indexes are OK"
   ]
  },
  {
   "cell_type": "code",
   "execution_count": 16,
   "id": "0456aa2d",
   "metadata": {},
   "outputs": [
    {
     "data": {
      "text/plain": [
       "0    156.180661\n",
       "2    183.095523\n",
       "4     82.135943\n",
       "Name: product, dtype: float64"
      ]
     },
     "execution_count": 16,
     "metadata": {},
     "output_type": "execute_result"
    }
   ],
   "source": [
    "top_target = tar10res.loc[predictions_sorted.index][:3]\n",
    "top_target"
   ]
  },
  {
   "cell_type": "markdown",
   "id": "5c25fca4",
   "metadata": {},
   "source": [
    "order and indexes are ok, so function suppose to work. but numbers are the same as before"
   ]
  },
  {
   "cell_type": "code",
   "execution_count": 17,
   "id": "83d49296",
   "metadata": {},
   "outputs": [
    {
     "name": "stdout",
     "output_type": "stream",
     "text": [
      "Profit for region 0 top 200: 32110105.274146125\n",
      "Profit for region 1 top 200: 24150866.966815114\n",
      "Profit for region 2 top 200: 26207105.23307593\n"
     ]
    }
   ],
   "source": [
    "prf0, prf1, prf2 = profit(target_valid_0,predicted_0), profit(target_valid_1,predicted_1), profit(target_valid_2,predicted_2)    \n",
    "\n",
    "print(f'Profit for region 0 top 200: {prf0}')\n",
    "print(f'Profit for region 1 top 200: {prf1}')\n",
    "print(f'Profit for region 2 top 200: {prf2}')"
   ]
  },
  {
   "cell_type": "code",
   "execution_count": 18,
   "id": "377aa295",
   "metadata": {},
   "outputs": [
    {
     "name": "stdout",
     "output_type": "stream",
     "text": [
      "Profit for region 0 top 200 assuming fixed product: -16742237.578754049\n",
      "Profit for region 1 top 200 assuming fixed product: -38358924.97180748\n",
      "Profit for region 2 top 200 assuming fixed product: -14499309.094460707\n"
     ]
    }
   ],
   "source": [
    "print(f'Profit for region 0 top 200 assuming fixed product: -{(critical_reserve - predicted_0.mean()) * 200 * 4500}')\n",
    "print(f'Profit for region 1 top 200 assuming fixed product: -{(critical_reserve - predicted_1.mean()) * 200 * 4500}')\n",
    "print(f'Profit for region 2 top 200 assuming fixed product: -{(critical_reserve - predicted_2.mean()) * 200 * 4500}')"
   ]
  },
  {
   "cell_type": "markdown",
   "id": "d6b574c8",
   "metadata": {},
   "source": [
    "Its witnessed that for regions 1 and 2, the profit from the top 200 wells is better compared to the profit that would have been obtained in case product was fixed, constant at the prediction's mean. Meaning, the loss of money is lower compared to the \"fixed\" case. It make sense, as 200 wells represent the top percent of the valid/test sets of 20000 length each.\n",
    "<div style=\"color:red; size:5;\">In region 0 its the opposite. Not sure how this is possible, maybe due to randomness? It had a strong resemblence to region 2 as witnessed above in the describe method, including similar Q1 and Q3 values. So its surprising the best 200 wells of region 0 are so poor, even compared with the predicted fixed-at-mean well product. Unexplained</div>"
   ]
  },
  {
   "cell_type": "markdown",
   "id": "ce2329c1",
   "metadata": {},
   "source": [
    "**Region 2 presumed to contain the best wells, as its loss is the lowest. As such, it has the best chance of including some set of profitable wells. Calculating profit only for the set of wells that contain more than `critical_reserve` of product for each region can show the optimal use of each region.**"
   ]
  },
  {
   "cell_type": "code",
   "execution_count": 19,
   "id": "a3312287",
   "metadata": {},
   "outputs": [
    {
     "name": "stdout",
     "output_type": "stream",
     "text": [
      "Region 0\n",
      "Risk - 0.665\n",
      "Number of profitable wells - 67\n",
      "Ideal profit - 8094000.393640675\n",
      "\n",
      "Region 1\n",
      "Risk - 0.815\n",
      "Number of profitable wells - 37\n",
      "Ideal profit - 4124567.3098744117\n",
      "\n",
      "Region 2\n",
      "Risk - 0.6\n",
      "Number of profitable wells - 80\n",
      "Ideal profit - 11898739.538949922\n"
     ]
    }
   ],
   "source": [
    "def ideal_use(target,predictions,count = 200):\n",
    "    \n",
    "    predictions_sorted = pd.Series(predictions, index=target.index).sort_values(ascending=False)\n",
    "    top_target = target.loc[predictions_sorted.index][:count]\n",
    "\n",
    "    risk = 1 - (sum(top_target > critical_reserve) / count)\n",
    "    more_than_crit = top_target[top_target > critical_reserve]\n",
    "    profitable_wells = len(more_than_crit)\n",
    "    ideal_profit = (more_than_crit.reset_index()['product'].sum() * val_per_product) - (len(more_than_crit) * Budget_per_well)\n",
    "    print(f'Risk - {risk}')\n",
    "    print(f'Number of profitable wells - {profitable_wells}')\n",
    "    print(f'Ideal profit - {ideal_profit}')\n",
    "print('Region 0')    \n",
    "ideal_use(target_valid_0,predicted_0)\n",
    "print()\n",
    "print('Region 1') \n",
    "ideal_use(target_valid_1,predicted_1)\n",
    "print()\n",
    "print('Region 2')    \n",
    "ideal_use(target_valid_2,predicted_2)"
   ]
  },
  {
   "cell_type": "markdown",
   "id": "0ac39c2a",
   "metadata": {},
   "source": [
    "As suspected, region 2 wins at all parameters."
   ]
  },
  {
   "cell_type": "markdown",
   "id": "6119531e",
   "metadata": {},
   "source": [
    "# Bootstrap <a id=\"boot\"></a>"
   ]
  },
  {
   "cell_type": "code",
   "execution_count": 20,
   "id": "e7459790",
   "metadata": {},
   "outputs": [
    {
     "name": "stdout",
     "output_type": "stream",
     "text": [
      "Region 0\n"
     ]
    },
    {
     "data": {
      "text/plain": [
       "'The average profit is 3785466; Its confidence interval is between -1259955 to 9035494; The risk of losing money is 0.06'"
      ]
     },
     "metadata": {},
     "output_type": "display_data"
    },
    {
     "name": "stdout",
     "output_type": "stream",
     "text": [
      "Region 1\n"
     ]
    },
    {
     "data": {
      "text/plain": [
       "'The average profit is 4574662; Its confidence interval is between 260533 to 8559064; The risk of losing money is 0.02'"
      ]
     },
     "metadata": {},
     "output_type": "display_data"
    },
    {
     "name": "stdout",
     "output_type": "stream",
     "text": [
      "Region 2\n"
     ]
    },
    {
     "data": {
      "text/plain": [
       "'The average profit is 4126785; Its confidence interval is between -1098755 to 9095928; The risk of losing money is 0.06'"
      ]
     },
     "metadata": {},
     "output_type": "display_data"
    }
   ],
   "source": [
    "def bootstrap_it(target, predictions, N_SAMP=500):\n",
    "    target = target.reset_index(drop=True)\n",
    "    predictions = predictions.reset_index(drop=True)\n",
    "    state = np.random.RandomState(12345)\n",
    "    values = []\n",
    "    probs = pd.Series(predictions, index=target.index)\n",
    "    for i in range(1000):\n",
    "        target_subsample = target.sample(n=N_SAMP, replace=True, random_state=state)\n",
    "        probs_subsample = probs[target_subsample.index]      \n",
    "        values.append(profit(target_subsample,probs_subsample))\n",
    "    \n",
    "    values = pd.Series(values)\n",
    "    lower = values.quantile(0.025)\n",
    "    upper = values.quantile(0.975)\n",
    "    pos_prof = len(values[values > 0])\n",
    "    risk = 1 - (pos_prof / len(values))\n",
    "    boot_profit = values.mean()\n",
    "    str_show1 = f'The average profit is {boot_profit:.0f}; Its confidence interval is between {lower:.0f} to {upper:.0f}; '\n",
    "    str_show2 = f'The risk of losing money is {risk:.2f}'\n",
    "    str_show = str_show1 + str_show2\n",
    "    return boot_profit, lower, upper, risk, str_show\n",
    "\n",
    "print('Region 0')\n",
    "display(bootstrap_it(target_valid_0, predicted_0)[4])\n",
    "print('Region 1')\n",
    "display(bootstrap_it(target_valid_1, predicted_1)[4])\n",
    "print('Region 2')\n",
    "display(bootstrap_it(target_valid_2, predicted_2)[4])"
   ]
  },
  {
   "cell_type": "markdown",
   "id": "c1ed67c6",
   "metadata": {},
   "source": [
    "Region 1 is the winner, and anyway the only region to comply with risk criteria"
   ]
  },
  {
   "cell_type": "markdown",
   "id": "64d752c0",
   "metadata": {},
   "source": [
    "# Conclusion <a id=\"conc\"></a>"
   ]
  },
  {
   "cell_type": "markdown",
   "id": "896f3622",
   "metadata": {},
   "source": [
    "- Region 1 has the best results - highest mean, generally and when bootstrapped.\n",
    "- Region 1 has the lowest risk"
   ]
  }
 ],
 "metadata": {
  "ExecuteTimeLog": [
   {
    "duration": 4,
    "start_time": "2022-05-19T17:59:52.953Z"
   },
   {
    "duration": 1506,
    "start_time": "2022-05-19T17:59:52.960Z"
   },
   {
    "duration": 874,
    "start_time": "2022-05-19T17:59:54.469Z"
   },
   {
    "duration": 51,
    "start_time": "2022-05-19T17:59:55.345Z"
   },
   {
    "duration": 40,
    "start_time": "2022-05-19T17:59:55.399Z"
   },
   {
    "duration": 63,
    "start_time": "2022-05-19T17:59:55.441Z"
   },
   {
    "duration": 55,
    "start_time": "2022-05-19T17:59:55.507Z"
   },
   {
    "duration": 210,
    "start_time": "2022-05-19T17:59:55.565Z"
   },
   {
    "duration": 140,
    "start_time": "2022-05-19T17:59:55.777Z"
   },
   {
    "duration": 479,
    "start_time": "2022-05-19T17:59:55.919Z"
   },
   {
    "duration": 91,
    "start_time": "2022-05-19T17:59:56.402Z"
   },
   {
    "duration": 8,
    "start_time": "2022-05-19T17:59:56.496Z"
   },
   {
    "duration": 28,
    "start_time": "2022-05-19T17:59:56.506Z"
   },
   {
    "duration": 6,
    "start_time": "2022-05-19T17:59:56.536Z"
   },
   {
    "duration": 70,
    "start_time": "2022-05-19T17:59:56.545Z"
   },
   {
    "duration": 4834,
    "start_time": "2022-05-19T17:59:56.617Z"
   },
   {
    "duration": 13,
    "start_time": "2022-05-19T18:00:53.710Z"
   },
   {
    "duration": 7,
    "start_time": "2022-05-19T18:01:06.080Z"
   },
   {
    "duration": 10,
    "start_time": "2022-05-19T18:01:14.454Z"
   },
   {
    "duration": 9,
    "start_time": "2022-05-19T18:03:40.661Z"
   },
   {
    "duration": 190,
    "start_time": "2022-05-19T18:04:33.560Z"
   },
   {
    "duration": 21,
    "start_time": "2022-05-19T18:04:43.820Z"
   },
   {
    "duration": 10,
    "start_time": "2022-05-19T18:04:55.714Z"
   },
   {
    "duration": 6,
    "start_time": "2022-05-19T18:04:59.499Z"
   },
   {
    "duration": 7,
    "start_time": "2022-05-19T18:05:04.253Z"
   },
   {
    "duration": 6,
    "start_time": "2022-05-19T18:05:07.049Z"
   },
   {
    "duration": 9,
    "start_time": "2022-05-19T18:05:10.070Z"
   },
   {
    "duration": 4,
    "start_time": "2022-05-19T18:05:43.842Z"
   },
   {
    "duration": 19,
    "start_time": "2022-05-19T18:05:45.165Z"
   },
   {
    "duration": 6,
    "start_time": "2022-05-19T18:05:52.194Z"
   },
   {
    "duration": 26,
    "start_time": "2022-05-19T18:05:53.507Z"
   },
   {
    "duration": 39,
    "start_time": "2022-05-19T18:05:56.894Z"
   },
   {
    "duration": 4,
    "start_time": "2022-05-19T18:07:33.037Z"
   },
   {
    "duration": 8,
    "start_time": "2022-05-19T18:07:38.963Z"
   },
   {
    "duration": 7,
    "start_time": "2022-05-19T18:07:47.681Z"
   },
   {
    "duration": 9,
    "start_time": "2022-05-19T18:07:59.237Z"
   },
   {
    "duration": 4,
    "start_time": "2022-05-19T18:08:02.293Z"
   },
   {
    "duration": 8,
    "start_time": "2022-05-19T18:08:09.852Z"
   },
   {
    "duration": 6,
    "start_time": "2022-05-19T18:08:14.518Z"
   },
   {
    "duration": 5,
    "start_time": "2022-05-19T18:08:17.829Z"
   },
   {
    "duration": 6,
    "start_time": "2022-05-19T18:08:21.805Z"
   },
   {
    "duration": 5,
    "start_time": "2022-05-19T18:08:28.390Z"
   },
   {
    "duration": 11,
    "start_time": "2022-05-19T18:08:50.197Z"
   },
   {
    "duration": 30,
    "start_time": "2022-05-19T18:11:50.329Z"
   },
   {
    "duration": 485,
    "start_time": "2022-05-19T18:12:05.210Z"
   },
   {
    "duration": 6,
    "start_time": "2022-05-19T18:12:20.364Z"
   },
   {
    "duration": 4,
    "start_time": "2022-05-19T18:12:21.331Z"
   },
   {
    "duration": 19,
    "start_time": "2022-05-19T18:12:23.354Z"
   },
   {
    "duration": 7,
    "start_time": "2022-05-19T18:12:24.423Z"
   },
   {
    "duration": 35,
    "start_time": "2022-05-19T18:12:26.485Z"
   },
   {
    "duration": 4527,
    "start_time": "2022-05-19T18:12:30.703Z"
   },
   {
    "duration": 4689,
    "start_time": "2022-05-19T18:14:22.019Z"
   },
   {
    "duration": 4680,
    "start_time": "2022-05-19T18:15:32.820Z"
   },
   {
    "duration": 4617,
    "start_time": "2022-05-19T18:15:45.610Z"
   },
   {
    "duration": 4437,
    "start_time": "2022-05-19T18:15:50.962Z"
   },
   {
    "duration": 11,
    "start_time": "2022-05-19T18:18:05.851Z"
   },
   {
    "duration": 12,
    "start_time": "2022-05-19T18:18:11.447Z"
   },
   {
    "duration": 12,
    "start_time": "2022-05-19T18:18:22.041Z"
   },
   {
    "duration": 6,
    "start_time": "2022-05-19T18:18:39.584Z"
   },
   {
    "duration": 11,
    "start_time": "2022-05-19T18:18:44.066Z"
   },
   {
    "duration": 6,
    "start_time": "2022-05-19T18:18:51.303Z"
   },
   {
    "duration": 6,
    "start_time": "2022-05-19T18:25:57.772Z"
   },
   {
    "duration": 7,
    "start_time": "2022-05-19T18:26:13.392Z"
   },
   {
    "duration": 7,
    "start_time": "2022-05-19T18:26:22.235Z"
   },
   {
    "duration": 34,
    "start_time": "2022-05-19T18:32:22.077Z"
   },
   {
    "duration": 25,
    "start_time": "2022-05-19T18:40:38.935Z"
   },
   {
    "duration": 431,
    "start_time": "2022-05-19T18:40:45.876Z"
   },
   {
    "duration": 4,
    "start_time": "2022-05-19T18:40:48.273Z"
   },
   {
    "duration": 4,
    "start_time": "2022-05-19T18:40:49.025Z"
   },
   {
    "duration": 6,
    "start_time": "2022-05-19T18:40:49.348Z"
   },
   {
    "duration": 7,
    "start_time": "2022-05-19T18:40:49.497Z"
   },
   {
    "duration": 8,
    "start_time": "2022-05-19T18:40:49.682Z"
   },
   {
    "duration": 16,
    "start_time": "2022-05-19T18:40:49.819Z"
   },
   {
    "duration": 5,
    "start_time": "2022-05-19T18:40:50.150Z"
   },
   {
    "duration": 26,
    "start_time": "2022-05-19T18:40:51.116Z"
   },
   {
    "duration": 4294,
    "start_time": "2022-05-19T18:40:53.950Z"
   },
   {
    "duration": 4,
    "start_time": "2022-05-21T06:35:50.502Z"
   },
   {
    "duration": 1434,
    "start_time": "2022-05-21T06:35:50.508Z"
   },
   {
    "duration": 908,
    "start_time": "2022-05-21T06:35:51.944Z"
   },
   {
    "duration": 38,
    "start_time": "2022-05-21T06:35:52.854Z"
   },
   {
    "duration": 34,
    "start_time": "2022-05-21T06:35:52.894Z"
   },
   {
    "duration": 30,
    "start_time": "2022-05-21T06:35:52.931Z"
   },
   {
    "duration": 46,
    "start_time": "2022-05-21T06:35:52.963Z"
   },
   {
    "duration": 154,
    "start_time": "2022-05-21T06:35:53.023Z"
   },
   {
    "duration": 114,
    "start_time": "2022-05-21T06:35:53.181Z"
   },
   {
    "duration": 431,
    "start_time": "2022-05-21T06:35:53.296Z"
   },
   {
    "duration": 17,
    "start_time": "2022-05-21T06:35:53.729Z"
   },
   {
    "duration": 115,
    "start_time": "2022-05-21T06:35:53.824Z"
   },
   {
    "duration": 27,
    "start_time": "2022-05-21T06:35:53.941Z"
   },
   {
    "duration": 10,
    "start_time": "2022-05-21T06:35:53.970Z"
   },
   {
    "duration": 9,
    "start_time": "2022-05-21T06:35:53.982Z"
   },
   {
    "duration": 17,
    "start_time": "2022-05-21T06:35:53.992Z"
   },
   {
    "duration": 6,
    "start_time": "2022-05-21T06:35:54.011Z"
   },
   {
    "duration": 27,
    "start_time": "2022-05-21T06:35:54.019Z"
   },
   {
    "duration": 4081,
    "start_time": "2022-05-21T06:35:54.048Z"
   },
   {
    "duration": 4,
    "start_time": "2022-05-21T06:37:12.990Z"
   },
   {
    "duration": 1226,
    "start_time": "2022-05-21T06:37:12.997Z"
   },
   {
    "duration": 393,
    "start_time": "2022-05-21T06:37:14.225Z"
   },
   {
    "duration": 40,
    "start_time": "2022-05-21T06:37:14.619Z"
   },
   {
    "duration": 25,
    "start_time": "2022-05-21T06:37:14.660Z"
   },
   {
    "duration": 50,
    "start_time": "2022-05-21T06:37:14.688Z"
   },
   {
    "duration": 31,
    "start_time": "2022-05-21T06:37:14.740Z"
   },
   {
    "duration": 142,
    "start_time": "2022-05-21T06:37:14.772Z"
   },
   {
    "duration": 120,
    "start_time": "2022-05-21T06:37:14.915Z"
   },
   {
    "duration": 405,
    "start_time": "2022-05-21T06:37:15.037Z"
   },
   {
    "duration": 82,
    "start_time": "2022-05-21T06:37:15.444Z"
   },
   {
    "duration": 5,
    "start_time": "2022-05-21T06:37:15.529Z"
   },
   {
    "duration": 114,
    "start_time": "2022-05-21T06:37:15.536Z"
   },
   {
    "duration": 8,
    "start_time": "2022-05-21T06:37:15.651Z"
   },
   {
    "duration": 9,
    "start_time": "2022-05-21T06:37:15.661Z"
   },
   {
    "duration": 15,
    "start_time": "2022-05-21T06:37:15.671Z"
   },
   {
    "duration": 4,
    "start_time": "2022-05-21T06:37:15.688Z"
   },
   {
    "duration": 40,
    "start_time": "2022-05-21T06:37:15.694Z"
   },
   {
    "duration": 3702,
    "start_time": "2022-05-21T06:37:15.736Z"
   },
   {
    "duration": 3,
    "start_time": "2022-05-21T06:37:41.506Z"
   },
   {
    "duration": 1187,
    "start_time": "2022-05-21T06:37:41.511Z"
   },
   {
    "duration": 387,
    "start_time": "2022-05-21T06:37:42.700Z"
   },
   {
    "duration": 46,
    "start_time": "2022-05-21T06:37:43.089Z"
   },
   {
    "duration": 26,
    "start_time": "2022-05-21T06:37:43.137Z"
   },
   {
    "duration": 26,
    "start_time": "2022-05-21T06:37:43.164Z"
   },
   {
    "duration": 66,
    "start_time": "2022-05-21T06:37:43.192Z"
   },
   {
    "duration": 155,
    "start_time": "2022-05-21T06:37:43.260Z"
   },
   {
    "duration": 117,
    "start_time": "2022-05-21T06:37:43.418Z"
   },
   {
    "duration": 409,
    "start_time": "2022-05-21T06:37:43.537Z"
   },
   {
    "duration": 76,
    "start_time": "2022-05-21T06:37:43.950Z"
   },
   {
    "duration": 112,
    "start_time": "2022-05-21T06:37:44.028Z"
   },
   {
    "duration": 10,
    "start_time": "2022-05-21T06:37:44.142Z"
   },
   {
    "duration": 8,
    "start_time": "2022-05-21T06:37:44.154Z"
   },
   {
    "duration": 10,
    "start_time": "2022-05-21T06:37:44.163Z"
   },
   {
    "duration": 15,
    "start_time": "2022-05-21T06:37:44.174Z"
   },
   {
    "duration": 4,
    "start_time": "2022-05-21T06:37:44.190Z"
   },
   {
    "duration": 39,
    "start_time": "2022-05-21T06:37:44.195Z"
   },
   {
    "duration": 3641,
    "start_time": "2022-05-21T06:37:44.236Z"
   },
   {
    "duration": 8,
    "start_time": "2022-05-21T06:39:29.309Z"
   },
   {
    "duration": 7,
    "start_time": "2022-05-21T06:39:39.767Z"
   },
   {
    "duration": 7,
    "start_time": "2022-05-21T06:39:44.893Z"
   },
   {
    "duration": 5,
    "start_time": "2022-05-21T06:40:05.368Z"
   },
   {
    "duration": 8,
    "start_time": "2022-05-21T06:40:09.463Z"
   },
   {
    "duration": 8,
    "start_time": "2022-05-21T06:41:52.083Z"
   },
   {
    "duration": 10,
    "start_time": "2022-05-21T06:42:00.683Z"
   },
   {
    "duration": 7,
    "start_time": "2022-05-21T06:42:45.070Z"
   },
   {
    "duration": 6,
    "start_time": "2022-05-21T06:44:29.537Z"
   },
   {
    "duration": 6,
    "start_time": "2022-05-21T06:44:47.508Z"
   },
   {
    "duration": 7,
    "start_time": "2022-05-21T06:45:06.549Z"
   },
   {
    "duration": 7,
    "start_time": "2022-05-21T06:46:18.340Z"
   },
   {
    "duration": 4,
    "start_time": "2022-05-21T06:46:27.795Z"
   },
   {
    "duration": 19,
    "start_time": "2022-05-21T06:46:40.101Z"
   },
   {
    "duration": 5,
    "start_time": "2022-05-21T06:46:44.666Z"
   },
   {
    "duration": 6,
    "start_time": "2022-05-21T06:46:55.165Z"
   },
   {
    "duration": 6,
    "start_time": "2022-05-21T06:47:37.413Z"
   },
   {
    "duration": 7,
    "start_time": "2022-05-21T06:47:49.040Z"
   },
   {
    "duration": 6,
    "start_time": "2022-05-21T06:48:00.599Z"
   },
   {
    "duration": 6,
    "start_time": "2022-05-21T06:48:18.084Z"
   },
   {
    "duration": 6,
    "start_time": "2022-05-21T06:49:40.706Z"
   },
   {
    "duration": 149,
    "start_time": "2022-05-21T06:49:55.665Z"
   },
   {
    "duration": 6,
    "start_time": "2022-05-21T06:50:02.366Z"
   },
   {
    "duration": 8,
    "start_time": "2022-05-21T06:50:14.621Z"
   },
   {
    "duration": 10,
    "start_time": "2022-05-21T06:50:20.241Z"
   },
   {
    "duration": 7,
    "start_time": "2022-05-21T06:51:33.921Z"
   },
   {
    "duration": 6,
    "start_time": "2022-05-21T06:51:35.462Z"
   },
   {
    "duration": 4,
    "start_time": "2022-05-21T06:52:32.062Z"
   },
   {
    "duration": 7,
    "start_time": "2022-05-21T06:52:35.804Z"
   },
   {
    "duration": 10,
    "start_time": "2022-05-21T06:52:48.244Z"
   },
   {
    "duration": 10,
    "start_time": "2022-05-21T06:52:56.994Z"
   },
   {
    "duration": 5,
    "start_time": "2022-05-21T06:53:20.164Z"
   },
   {
    "duration": 11,
    "start_time": "2022-05-21T06:53:47.966Z"
   },
   {
    "duration": 4,
    "start_time": "2022-05-21T06:53:54.087Z"
   },
   {
    "duration": 6,
    "start_time": "2022-05-21T06:53:54.787Z"
   },
   {
    "duration": 8,
    "start_time": "2022-05-21T06:53:55.335Z"
   },
   {
    "duration": 20,
    "start_time": "2022-05-21T06:53:56.239Z"
   },
   {
    "duration": 8,
    "start_time": "2022-05-21T06:54:30.591Z"
   },
   {
    "duration": 4,
    "start_time": "2022-05-21T06:56:01.300Z"
   },
   {
    "duration": 7,
    "start_time": "2022-05-21T06:56:06.783Z"
   },
   {
    "duration": 4,
    "start_time": "2022-05-21T06:57:28.603Z"
   },
   {
    "duration": 22,
    "start_time": "2022-05-21T06:57:32.534Z"
   },
   {
    "duration": 7,
    "start_time": "2022-05-21T06:57:40.052Z"
   },
   {
    "duration": 1188,
    "start_time": "2022-05-21T06:57:40.061Z"
   },
   {
    "duration": 361,
    "start_time": "2022-05-21T06:57:41.250Z"
   },
   {
    "duration": 53,
    "start_time": "2022-05-21T06:57:41.612Z"
   },
   {
    "duration": 25,
    "start_time": "2022-05-21T06:57:41.667Z"
   },
   {
    "duration": 47,
    "start_time": "2022-05-21T06:57:41.693Z"
   },
   {
    "duration": 34,
    "start_time": "2022-05-21T06:57:41.742Z"
   },
   {
    "duration": 168,
    "start_time": "2022-05-21T06:57:41.778Z"
   },
   {
    "duration": 123,
    "start_time": "2022-05-21T06:57:41.948Z"
   },
   {
    "duration": 479,
    "start_time": "2022-05-21T06:57:42.073Z"
   },
   {
    "duration": 68,
    "start_time": "2022-05-21T06:57:42.555Z"
   },
   {
    "duration": 101,
    "start_time": "2022-05-21T06:57:42.626Z"
   },
   {
    "duration": 39,
    "start_time": "2022-05-21T06:57:42.729Z"
   },
   {
    "duration": 13,
    "start_time": "2022-05-21T06:57:42.770Z"
   },
   {
    "duration": 32,
    "start_time": "2022-05-21T06:57:42.785Z"
   },
   {
    "duration": 181,
    "start_time": "2022-05-21T06:57:42.819Z"
   },
   {
    "duration": 4,
    "start_time": "2022-05-21T06:57:55.774Z"
   },
   {
    "duration": 1181,
    "start_time": "2022-05-21T06:57:55.780Z"
   },
   {
    "duration": 405,
    "start_time": "2022-05-21T06:57:56.964Z"
   },
   {
    "duration": 40,
    "start_time": "2022-05-21T06:57:57.371Z"
   },
   {
    "duration": 43,
    "start_time": "2022-05-21T06:57:57.413Z"
   },
   {
    "duration": 26,
    "start_time": "2022-05-21T06:57:57.457Z"
   },
   {
    "duration": 68,
    "start_time": "2022-05-21T06:57:57.485Z"
   },
   {
    "duration": 179,
    "start_time": "2022-05-21T06:57:57.555Z"
   },
   {
    "duration": 118,
    "start_time": "2022-05-21T06:57:57.739Z"
   },
   {
    "duration": 468,
    "start_time": "2022-05-21T06:57:57.859Z"
   },
   {
    "duration": 6,
    "start_time": "2022-05-21T06:57:58.332Z"
   },
   {
    "duration": 96,
    "start_time": "2022-05-21T06:57:58.342Z"
   },
   {
    "duration": 22,
    "start_time": "2022-05-21T06:57:58.440Z"
   },
   {
    "duration": 5,
    "start_time": "2022-05-21T06:57:58.464Z"
   },
   {
    "duration": 24,
    "start_time": "2022-05-21T06:57:58.470Z"
   },
   {
    "duration": 156,
    "start_time": "2022-05-21T06:57:58.496Z"
   },
   {
    "duration": 5,
    "start_time": "2022-05-21T06:58:56.793Z"
   },
   {
    "duration": 21,
    "start_time": "2022-05-21T06:58:58.473Z"
   },
   {
    "duration": 11,
    "start_time": "2022-05-21T06:59:01.324Z"
   },
   {
    "duration": 31,
    "start_time": "2022-05-21T06:59:05.617Z"
   },
   {
    "duration": 4,
    "start_time": "2022-05-21T06:59:53.582Z"
   },
   {
    "duration": 15,
    "start_time": "2022-05-21T06:59:55.266Z"
   },
   {
    "duration": 5,
    "start_time": "2022-05-21T06:59:58.186Z"
   },
   {
    "duration": 4,
    "start_time": "2022-05-21T07:00:21.677Z"
   },
   {
    "duration": 5,
    "start_time": "2022-05-21T07:01:53.976Z"
   },
   {
    "duration": 7,
    "start_time": "2022-05-21T07:02:07.294Z"
   },
   {
    "duration": 22,
    "start_time": "2022-05-21T07:02:36.589Z"
   },
   {
    "duration": 2,
    "start_time": "2022-05-21T07:02:40.478Z"
   },
   {
    "duration": 3,
    "start_time": "2022-05-21T07:02:43.653Z"
   },
   {
    "duration": 7,
    "start_time": "2022-05-21T07:03:02.901Z"
   },
   {
    "duration": 7,
    "start_time": "2022-05-21T07:03:13.071Z"
   },
   {
    "duration": 3,
    "start_time": "2022-05-21T07:03:16.307Z"
   },
   {
    "duration": 8,
    "start_time": "2022-05-21T07:03:16.764Z"
   },
   {
    "duration": 10,
    "start_time": "2022-05-21T07:03:22.796Z"
   },
   {
    "duration": 6,
    "start_time": "2022-05-21T07:04:07.161Z"
   },
   {
    "duration": 3,
    "start_time": "2022-05-21T07:04:26.569Z"
   },
   {
    "duration": 4,
    "start_time": "2022-05-21T07:04:48.388Z"
   },
   {
    "duration": 9,
    "start_time": "2022-05-21T07:05:13.435Z"
   },
   {
    "duration": 4,
    "start_time": "2022-05-21T07:08:52.373Z"
   },
   {
    "duration": 6,
    "start_time": "2022-05-21T07:08:58.156Z"
   },
   {
    "duration": 4,
    "start_time": "2022-05-21T07:10:02.176Z"
   },
   {
    "duration": 7,
    "start_time": "2022-05-21T07:10:09.711Z"
   },
   {
    "duration": 4,
    "start_time": "2022-05-21T07:11:31.685Z"
   },
   {
    "duration": 9,
    "start_time": "2022-05-21T07:11:33.184Z"
   },
   {
    "duration": 8,
    "start_time": "2022-05-21T07:11:33.779Z"
   },
   {
    "duration": 6,
    "start_time": "2022-05-21T07:11:34.419Z"
   },
   {
    "duration": 6,
    "start_time": "2022-05-21T07:11:35.237Z"
   },
   {
    "duration": 15,
    "start_time": "2022-05-21T07:11:36.938Z"
   },
   {
    "duration": 4,
    "start_time": "2022-05-21T07:13:34.989Z"
   },
   {
    "duration": 1181,
    "start_time": "2022-05-21T07:13:34.996Z"
   },
   {
    "duration": 382,
    "start_time": "2022-05-21T07:13:36.179Z"
   },
   {
    "duration": 35,
    "start_time": "2022-05-21T07:13:36.563Z"
   },
   {
    "duration": 43,
    "start_time": "2022-05-21T07:13:36.601Z"
   },
   {
    "duration": 26,
    "start_time": "2022-05-21T07:13:36.645Z"
   },
   {
    "duration": 33,
    "start_time": "2022-05-21T07:13:36.672Z"
   },
   {
    "duration": 167,
    "start_time": "2022-05-21T07:13:36.729Z"
   },
   {
    "duration": 139,
    "start_time": "2022-05-21T07:13:36.898Z"
   },
   {
    "duration": 399,
    "start_time": "2022-05-21T07:13:37.041Z"
   },
   {
    "duration": 6,
    "start_time": "2022-05-21T07:13:37.442Z"
   },
   {
    "duration": 178,
    "start_time": "2022-05-21T07:13:37.450Z"
   },
   {
    "duration": 42,
    "start_time": "2022-05-21T07:13:37.629Z"
   },
   {
    "duration": 12,
    "start_time": "2022-05-21T07:13:37.674Z"
   },
   {
    "duration": 11,
    "start_time": "2022-05-21T07:13:37.687Z"
   },
   {
    "duration": 12,
    "start_time": "2022-05-21T07:13:37.699Z"
   },
   {
    "duration": 35,
    "start_time": "2022-05-21T07:13:37.712Z"
   },
   {
    "duration": 9,
    "start_time": "2022-05-21T07:13:37.748Z"
   },
   {
    "duration": 35,
    "start_time": "2022-05-21T07:13:37.758Z"
   },
   {
    "duration": 3850,
    "start_time": "2022-05-21T07:13:37.794Z"
   },
   {
    "duration": 4,
    "start_time": "2022-05-21T12:02:31.812Z"
   },
   {
    "duration": 1509,
    "start_time": "2022-05-21T12:02:31.819Z"
   },
   {
    "duration": 827,
    "start_time": "2022-05-21T12:02:33.331Z"
   },
   {
    "duration": 36,
    "start_time": "2022-05-21T12:02:34.159Z"
   },
   {
    "duration": 33,
    "start_time": "2022-05-21T12:02:34.197Z"
   },
   {
    "duration": 27,
    "start_time": "2022-05-21T12:02:34.232Z"
   },
   {
    "duration": 35,
    "start_time": "2022-05-21T12:02:34.260Z"
   },
   {
    "duration": 191,
    "start_time": "2022-05-21T12:02:34.325Z"
   },
   {
    "duration": 131,
    "start_time": "2022-05-21T12:02:34.525Z"
   },
   {
    "duration": 496,
    "start_time": "2022-05-21T12:02:34.657Z"
   },
   {
    "duration": 75,
    "start_time": "2022-05-21T12:02:35.155Z"
   },
   {
    "duration": 95,
    "start_time": "2022-05-21T12:02:35.232Z"
   },
   {
    "duration": 15,
    "start_time": "2022-05-21T12:02:35.329Z"
   },
   {
    "duration": 10,
    "start_time": "2022-05-21T12:02:35.346Z"
   },
   {
    "duration": 18,
    "start_time": "2022-05-21T12:02:35.359Z"
   },
   {
    "duration": 23,
    "start_time": "2022-05-21T12:02:35.378Z"
   },
   {
    "duration": 32,
    "start_time": "2022-05-21T12:02:35.404Z"
   },
   {
    "duration": 4,
    "start_time": "2022-05-21T12:02:35.438Z"
   },
   {
    "duration": 30,
    "start_time": "2022-05-21T12:02:35.444Z"
   },
   {
    "duration": 3558,
    "start_time": "2022-05-21T12:02:35.476Z"
   },
   {
    "duration": 6,
    "start_time": "2022-05-21T12:03:00.075Z"
   },
   {
    "duration": 6,
    "start_time": "2022-05-21T12:03:09.621Z"
   },
   {
    "duration": 3601,
    "start_time": "2022-05-21T12:07:26.863Z"
   },
   {
    "duration": 10,
    "start_time": "2022-05-21T16:04:42.199Z"
   },
   {
    "duration": 68,
    "start_time": "2022-05-21T16:04:43.009Z"
   },
   {
    "duration": 4,
    "start_time": "2022-05-21T16:04:51.783Z"
   },
   {
    "duration": 1515,
    "start_time": "2022-05-21T16:04:51.789Z"
   },
   {
    "duration": 756,
    "start_time": "2022-05-21T16:04:53.306Z"
   },
   {
    "duration": 39,
    "start_time": "2022-05-21T16:04:54.064Z"
   },
   {
    "duration": 28,
    "start_time": "2022-05-21T16:04:54.106Z"
   },
   {
    "duration": 53,
    "start_time": "2022-05-21T16:04:54.136Z"
   },
   {
    "duration": 44,
    "start_time": "2022-05-21T16:04:54.191Z"
   },
   {
    "duration": 178,
    "start_time": "2022-05-21T16:04:54.237Z"
   },
   {
    "duration": 123,
    "start_time": "2022-05-21T16:04:54.417Z"
   },
   {
    "duration": 445,
    "start_time": "2022-05-21T16:04:54.542Z"
   },
   {
    "duration": 77,
    "start_time": "2022-05-21T16:04:54.990Z"
   },
   {
    "duration": 94,
    "start_time": "2022-05-21T16:04:55.072Z"
   },
   {
    "duration": 12,
    "start_time": "2022-05-21T16:04:55.169Z"
   },
   {
    "duration": 8,
    "start_time": "2022-05-21T16:04:55.183Z"
   },
   {
    "duration": 7,
    "start_time": "2022-05-21T16:04:55.194Z"
   },
   {
    "duration": 8,
    "start_time": "2022-05-21T16:04:55.204Z"
   },
   {
    "duration": 57,
    "start_time": "2022-05-21T16:04:55.214Z"
   },
   {
    "duration": 7,
    "start_time": "2022-05-21T16:04:55.273Z"
   },
   {
    "duration": 35,
    "start_time": "2022-05-21T16:04:55.282Z"
   },
   {
    "duration": 4030,
    "start_time": "2022-05-21T16:04:55.318Z"
   },
   {
    "duration": 4,
    "start_time": "2022-05-21T16:06:34.445Z"
   },
   {
    "duration": 1177,
    "start_time": "2022-05-21T16:06:34.452Z"
   },
   {
    "duration": 387,
    "start_time": "2022-05-21T16:06:35.631Z"
   },
   {
    "duration": 49,
    "start_time": "2022-05-21T16:06:36.020Z"
   },
   {
    "duration": 27,
    "start_time": "2022-05-21T16:06:36.072Z"
   },
   {
    "duration": 27,
    "start_time": "2022-05-21T16:06:36.100Z"
   },
   {
    "duration": 62,
    "start_time": "2022-05-21T16:06:36.129Z"
   },
   {
    "duration": 169,
    "start_time": "2022-05-21T16:06:36.193Z"
   },
   {
    "duration": 120,
    "start_time": "2022-05-21T16:06:36.364Z"
   },
   {
    "duration": 392,
    "start_time": "2022-05-21T16:06:36.486Z"
   },
   {
    "duration": 85,
    "start_time": "2022-05-21T16:06:36.880Z"
   },
   {
    "duration": 100,
    "start_time": "2022-05-21T16:06:36.972Z"
   },
   {
    "duration": 13,
    "start_time": "2022-05-21T16:06:37.074Z"
   },
   {
    "duration": 8,
    "start_time": "2022-05-21T16:06:37.089Z"
   },
   {
    "duration": 7,
    "start_time": "2022-05-21T16:06:37.099Z"
   },
   {
    "duration": 10,
    "start_time": "2022-05-21T16:06:37.108Z"
   },
   {
    "duration": 46,
    "start_time": "2022-05-21T16:06:37.120Z"
   },
   {
    "duration": 6,
    "start_time": "2022-05-21T16:06:37.168Z"
   },
   {
    "duration": 33,
    "start_time": "2022-05-21T16:06:37.177Z"
   },
   {
    "duration": 4079,
    "start_time": "2022-05-21T16:06:37.212Z"
   },
   {
    "duration": 3982,
    "start_time": "2022-05-21T16:07:19.168Z"
   },
   {
    "duration": 3849,
    "start_time": "2022-05-21T16:14:32.618Z"
   }
  ],
  "kernelspec": {
   "display_name": "Python 3",
   "language": "python",
   "name": "python3"
  },
  "language_info": {
   "codemirror_mode": {
    "name": "ipython",
    "version": 3
   },
   "file_extension": ".py",
   "mimetype": "text/x-python",
   "name": "python",
   "nbconvert_exporter": "python",
   "pygments_lexer": "ipython3",
   "version": "3.8.8"
  },
  "toc": {
   "base_numbering": 1,
   "nav_menu": {},
   "number_sections": true,
   "sideBar": true,
   "skip_h1_title": true,
   "title_cell": "Table of Contents",
   "title_sidebar": "Contents",
   "toc_cell": false,
   "toc_position": {},
   "toc_section_display": true,
   "toc_window_display": false
  }
 },
 "nbformat": 4,
 "nbformat_minor": 5
}
